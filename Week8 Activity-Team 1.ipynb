{
 "cells": [
  {
   "cell_type": "markdown",
   "id": "bae69d46",
   "metadata": {},
   "source": [
    "#  Q&A Activity on Testing of Hypothesis \n",
    "\n",
    "## 1. Carry out descriptive analytics on the dataset.\n",
    "## 2. Check whether female and male students scored the same marks.\n",
    "## 3. Whether test preparation helps the students\n",
    "\n",
    "        ### Team1: Reshma Joseph, Sreehari T, Akshitha M K, Sneha Saji"
   ]
  },
  {
   "cell_type": "markdown",
   "id": "adacc0b8",
   "metadata": {},
   "source": [
    "#### Importing required libraries and packages"
   ]
  },
  {
   "cell_type": "code",
   "execution_count": 1,
   "id": "fa8b5364",
   "metadata": {},
   "outputs": [],
   "source": [
    "import pandas as pd\n",
    "import numpy as np\n",
    "import seaborn as sns\n",
    "import scipy.stats as stats"
   ]
  },
  {
   "cell_type": "markdown",
   "id": "1f963436",
   "metadata": {},
   "source": [
    "### 1. Carry out descriptive analytics on the dataset."
   ]
  },
  {
   "cell_type": "markdown",
   "id": "5ac7daa0",
   "metadata": {},
   "source": [
    "Use Pandas read_csv to load the .csv file into a dataframe."
   ]
  },
  {
   "cell_type": "code",
   "execution_count": 2,
   "id": "6132ee12",
   "metadata": {},
   "outputs": [],
   "source": [
    "data=pd.read_csv(\"Week_8_Q&A_dataset - Sheet1.csv\")"
   ]
  },
  {
   "cell_type": "markdown",
   "id": "cc2188a0",
   "metadata": {},
   "source": [
    "head() method is used to print the first five rows:"
   ]
  },
  {
   "cell_type": "code",
   "execution_count": 3,
   "id": "3413306d",
   "metadata": {},
   "outputs": [
    {
     "data": {
      "text/html": [
       "<div>\n",
       "<style scoped>\n",
       "    .dataframe tbody tr th:only-of-type {\n",
       "        vertical-align: middle;\n",
       "    }\n",
       "\n",
       "    .dataframe tbody tr th {\n",
       "        vertical-align: top;\n",
       "    }\n",
       "\n",
       "    .dataframe thead th {\n",
       "        text-align: right;\n",
       "    }\n",
       "</style>\n",
       "<table border=\"1\" class=\"dataframe\">\n",
       "  <thead>\n",
       "    <tr style=\"text-align: right;\">\n",
       "      <th></th>\n",
       "      <th>Gender</th>\n",
       "      <th>Test preparation</th>\n",
       "      <th>Total Marks</th>\n",
       "    </tr>\n",
       "  </thead>\n",
       "  <tbody>\n",
       "    <tr>\n",
       "      <th>0</th>\n",
       "      <td>male</td>\n",
       "      <td>none</td>\n",
       "      <td>14</td>\n",
       "    </tr>\n",
       "    <tr>\n",
       "      <th>1</th>\n",
       "      <td>female</td>\n",
       "      <td>none</td>\n",
       "      <td>28</td>\n",
       "    </tr>\n",
       "    <tr>\n",
       "      <th>2</th>\n",
       "      <td>female</td>\n",
       "      <td>none</td>\n",
       "      <td>18</td>\n",
       "    </tr>\n",
       "    <tr>\n",
       "      <th>3</th>\n",
       "      <td>female</td>\n",
       "      <td>none</td>\n",
       "      <td>48</td>\n",
       "    </tr>\n",
       "    <tr>\n",
       "      <th>4</th>\n",
       "      <td>female</td>\n",
       "      <td>none</td>\n",
       "      <td>21</td>\n",
       "    </tr>\n",
       "  </tbody>\n",
       "</table>\n",
       "</div>"
      ],
      "text/plain": [
       "   Gender Test preparation  Total Marks\n",
       "0    male             none           14\n",
       "1  female             none           28\n",
       "2  female             none           18\n",
       "3  female             none           48\n",
       "4  female             none           21"
      ]
     },
     "execution_count": 3,
     "metadata": {},
     "output_type": "execute_result"
    }
   ],
   "source": [
    "data.head()"
   ]
  },
  {
   "cell_type": "markdown",
   "id": "5190b8a1",
   "metadata": {},
   "source": [
    "With the describe method, summary statistics is calculated"
   ]
  },
  {
   "cell_type": "code",
   "execution_count": 4,
   "id": "d917dbe8",
   "metadata": {},
   "outputs": [
    {
     "data": {
      "text/html": [
       "<div>\n",
       "<style scoped>\n",
       "    .dataframe tbody tr th:only-of-type {\n",
       "        vertical-align: middle;\n",
       "    }\n",
       "\n",
       "    .dataframe tbody tr th {\n",
       "        vertical-align: top;\n",
       "    }\n",
       "\n",
       "    .dataframe thead th {\n",
       "        text-align: right;\n",
       "    }\n",
       "</style>\n",
       "<table border=\"1\" class=\"dataframe\">\n",
       "  <thead>\n",
       "    <tr style=\"text-align: right;\">\n",
       "      <th></th>\n",
       "      <th>Total Marks</th>\n",
       "    </tr>\n",
       "  </thead>\n",
       "  <tbody>\n",
       "    <tr>\n",
       "      <th>count</th>\n",
       "      <td>28.000000</td>\n",
       "    </tr>\n",
       "    <tr>\n",
       "      <th>mean</th>\n",
       "      <td>32.321429</td>\n",
       "    </tr>\n",
       "    <tr>\n",
       "      <th>std</th>\n",
       "      <td>12.454520</td>\n",
       "    </tr>\n",
       "    <tr>\n",
       "      <th>min</th>\n",
       "      <td>12.000000</td>\n",
       "    </tr>\n",
       "    <tr>\n",
       "      <th>25%</th>\n",
       "      <td>22.500000</td>\n",
       "    </tr>\n",
       "    <tr>\n",
       "      <th>50%</th>\n",
       "      <td>33.000000</td>\n",
       "    </tr>\n",
       "    <tr>\n",
       "      <th>75%</th>\n",
       "      <td>43.250000</td>\n",
       "    </tr>\n",
       "    <tr>\n",
       "      <th>max</th>\n",
       "      <td>50.000000</td>\n",
       "    </tr>\n",
       "  </tbody>\n",
       "</table>\n",
       "</div>"
      ],
      "text/plain": [
       "       Total Marks\n",
       "count    28.000000\n",
       "mean     32.321429\n",
       "std      12.454520\n",
       "min      12.000000\n",
       "25%      22.500000\n",
       "50%      33.000000\n",
       "75%      43.250000\n",
       "max      50.000000"
      ]
     },
     "execution_count": 4,
     "metadata": {},
     "output_type": "execute_result"
    }
   ],
   "source": [
    "data.describe()"
   ]
  },
  {
   "cell_type": "markdown",
   "id": "600dd6f1",
   "metadata": {},
   "source": [
    "### 2. Check whether female and male students scored the same marks."
   ]
  },
  {
   "cell_type": "markdown",
   "id": "851162c7",
   "metadata": {},
   "source": [
    "We use the query method to create two Pandas series objects: We first subset the rows containing men, in the column Gender. Subsequently, we do the exact same thing for the rows containing women."
   ]
  },
  {
   "cell_type": "code",
   "execution_count": 5,
   "id": "0fea6f55",
   "metadata": {},
   "outputs": [],
   "source": [
    "men = data.query('Gender == \"male\"')['Total Marks']\n",
    "women = data.query('Gender == \"female\"')['Total Marks']"
   ]
  },
  {
   "cell_type": "code",
   "execution_count": 6,
   "id": "3a33af55",
   "metadata": {},
   "outputs": [
    {
     "data": {
      "text/plain": [
       "0     14\n",
       "6     30\n",
       "8     18\n",
       "9     24\n",
       "10    44\n",
       "11    23\n",
       "12    43\n",
       "13    28\n",
       "18    47\n",
       "19    36\n",
       "20    14\n",
       "21    44\n",
       "Name: Total Marks, dtype: int64"
      ]
     },
     "execution_count": 6,
     "metadata": {},
     "output_type": "execute_result"
    }
   ],
   "source": [
    "men"
   ]
  },
  {
   "cell_type": "code",
   "execution_count": 7,
   "id": "93e2513a",
   "metadata": {},
   "outputs": [
    {
     "data": {
      "text/plain": [
       "1     28\n",
       "2     18\n",
       "3     48\n",
       "4     21\n",
       "5     40\n",
       "7     12\n",
       "14    41\n",
       "15    13\n",
       "16    48\n",
       "17    45\n",
       "22    41\n",
       "23    27\n",
       "24    27\n",
       "25    38\n",
       "26    50\n",
       "27    43\n",
       "Name: Total Marks, dtype: int64"
      ]
     },
     "execution_count": 7,
     "metadata": {},
     "output_type": "execute_result"
    }
   ],
   "source": [
    "women"
   ]
  },
  {
   "cell_type": "markdown",
   "id": "f42f6e6b",
   "metadata": {},
   "source": [
    "#### Hypotheses:\n",
    "##### Null hypotheses: Two group means are equal\n",
    "##### Alternative hypotheses: Two group means are different (two-tailed)"
   ]
  },
  {
   "cell_type": "markdown",
   "id": "8214e6d4",
   "metadata": {},
   "source": [
    "Sample size is less than 30, so T test"
   ]
  },
  {
   "cell_type": "markdown",
   "id": "8dc3c6f9",
   "metadata": {},
   "source": [
    "#### Carrying out a two-sample t-test using SciPy"
   ]
  },
  {
   "cell_type": "markdown",
   "id": "52b604b7",
   "metadata": {},
   "source": [
    "##### P value\n",
    "\n",
    "If the null hypothesis is right, P value gives the probability of obtaining an effect at least as large as the one in your sample\n",
    "\n",
    "High P-values: Your sample results are consistent with a true null hypothesis.\n",
    "Low P-values: Your sample results are not consistent with a null hypothesis."
   ]
  },
  {
   "cell_type": "markdown",
   "id": "0c6b7dea",
   "metadata": {},
   "source": [
    "##### Significance level (α)\n",
    "\n",
    "It is a measure of the strength of the evidence that must be present in your sample before you will reject the null hypothesis and conclude that the effect is statistically significant.\n",
    "\n",
    "For example, a significance level of 0.05 indicates a 5% risk of concluding that a difference exists when there is no actual difference. Lower significance levels indicate that you require stronger evidence before you will reject the null hypothesis.\n",
    "\n",
    "For this t-test lets assign significance level as 0.05"
   ]
  },
  {
   "cell_type": "markdown",
   "id": "dd668f56",
   "metadata": {},
   "source": [
    "##### If the p-value is less than your significance level, you can reject the null hypothesis and conclude that the effect is statistically significant. In other words, the evidence in your sample is strong enough to be able to reject the null hypothesis at the population level."
   ]
  },
  {
   "cell_type": "markdown",
   "id": "dd7a05f3",
   "metadata": {},
   "source": [
    "We use the ttest_ind method to carry out the independent samples t-test. Here, we used the Pandas series’ we previously created (subsets), and set the equal_var parameter to True. "
   ]
  },
  {
   "cell_type": "code",
   "execution_count": 8,
   "id": "1fe8ae6c",
   "metadata": {},
   "outputs": [
    {
     "data": {
      "text/plain": [
       "Ttest_indResult(statistic=-0.6940885268848668, pvalue=0.4937822317960763)"
      ]
     },
     "execution_count": 8,
     "metadata": {},
     "output_type": "execute_result"
    }
   ],
   "source": [
    "res = stats.ttest_ind(men, women, equal_var=True)\n",
    "res"
   ]
  },
  {
   "cell_type": "markdown",
   "id": "c4dce666",
   "metadata": {},
   "source": [
    "#### Insight: p value is more than significance level(0.05) which implies null hypothesis is true. Ie Male and Female students scored same marks as per the mean"
   ]
  },
  {
   "cell_type": "markdown",
   "id": "54e50895",
   "metadata": {},
   "source": [
    "### 3. Whether test preparation helps the students"
   ]
  },
  {
   "cell_type": "markdown",
   "id": "f19589f9",
   "metadata": {},
   "source": [
    "##### Null Hypothesis: Test preparation does not helps students  µ2(mean with preparation)<=µ1(mean with no perparation) \n",
    "##### Alternate Hypothesis: Test preparation helps students  µ2(mean with preparation)>µ1(mean with no perparation) \n"
   ]
  },
  {
   "cell_type": "markdown",
   "id": "b2b4fa23",
   "metadata": {},
   "source": [
    "Significance Level = 0.05"
   ]
  },
  {
   "cell_type": "markdown",
   "id": "096a5fe1",
   "metadata": {},
   "source": [
    "If p value is more than significance level null hypothesis stands and vice versa"
   ]
  },
  {
   "cell_type": "markdown",
   "id": "6a9b6452",
   "metadata": {},
   "source": [
    "Here we have to perform 1-taled 2 sample t-test "
   ]
  },
  {
   "cell_type": "code",
   "execution_count": 9,
   "id": "6c9bed34",
   "metadata": {},
   "outputs": [],
   "source": [
    "test = data[data[\"Test preparation\"]==\"completed\"][\"Total Marks\"]\n",
    "notest = data[data[\"Test preparation\"]==\"none\"][\"Total Marks\"]"
   ]
  },
  {
   "cell_type": "code",
   "execution_count": 10,
   "id": "2d1dc016",
   "metadata": {},
   "outputs": [
    {
     "data": {
      "text/plain": [
       "5     40\n",
       "10    44\n",
       "12    43\n",
       "16    48\n",
       "21    44\n",
       "26    50\n",
       "27    43\n",
       "Name: Total Marks, dtype: int64"
      ]
     },
     "execution_count": 10,
     "metadata": {},
     "output_type": "execute_result"
    }
   ],
   "source": [
    "test"
   ]
  },
  {
   "cell_type": "code",
   "execution_count": 11,
   "id": "b540cf91",
   "metadata": {},
   "outputs": [
    {
     "data": {
      "text/plain": [
       "0     14\n",
       "1     28\n",
       "2     18\n",
       "3     48\n",
       "4     21\n",
       "6     30\n",
       "7     12\n",
       "8     18\n",
       "9     24\n",
       "11    23\n",
       "13    28\n",
       "14    41\n",
       "15    13\n",
       "17    45\n",
       "18    47\n",
       "19    36\n",
       "20    14\n",
       "22    41\n",
       "23    27\n",
       "24    27\n",
       "25    38\n",
       "Name: Total Marks, dtype: int64"
      ]
     },
     "execution_count": 11,
     "metadata": {},
     "output_type": "execute_result"
    }
   ],
   "source": [
    "notest"
   ]
  },
  {
   "cell_type": "markdown",
   "id": "b4520b4d",
   "metadata": {},
   "source": [
    "ttest_ind method is used to carry out the independent samples t-test. Here, we used the Pandas series’ we previously created (subsets), and set the equal_var parameter to True."
   ]
  },
  {
   "cell_type": "code",
   "execution_count": 12,
   "id": "0e4b6c88",
   "metadata": {},
   "outputs": [
    {
     "data": {
      "text/plain": [
       "Ttest_indResult(statistic=3.6143637527769217, pvalue=0.0012671292457320106)"
      ]
     },
     "execution_count": 12,
     "metadata": {},
     "output_type": "execute_result"
    }
   ],
   "source": [
    "res = stats.ttest_ind(test,notest, equal_var=True)\n",
    "res"
   ]
  },
  {
   "cell_type": "markdown",
   "id": "42a392c6",
   "metadata": {},
   "source": [
    "##### Insight:\n",
    "##### Pvalue has very small value and is less than significance level(0.05), so null hypothesis is rejected, which implies alternative hypothesis is true. i.e, Test preparation helps students!"
   ]
  }
 ],
 "metadata": {
  "kernelspec": {
   "display_name": "Python 3 (ipykernel)",
   "language": "python",
   "name": "python3"
  },
  "language_info": {
   "codemirror_mode": {
    "name": "ipython",
    "version": 3
   },
   "file_extension": ".py",
   "mimetype": "text/x-python",
   "name": "python",
   "nbconvert_exporter": "python",
   "pygments_lexer": "ipython3",
   "version": "3.8.8"
  }
 },
 "nbformat": 4,
 "nbformat_minor": 5
}
