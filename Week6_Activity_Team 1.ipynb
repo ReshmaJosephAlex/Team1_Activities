{
 "cells": [
  {
   "cell_type": "markdown",
   "id": "a4e0f65f",
   "metadata": {},
   "source": [
    "# Q&A Activity Question Week -06"
   ]
  },
  {
   "cell_type": "markdown",
   "id": "78a9b5ae",
   "metadata": {},
   "source": [
    "Read the data set into python\n",
    "\n"
   ]
  },
  {
   "cell_type": "markdown",
   "id": "c8e19a23",
   "metadata": {},
   "source": [
    "1.\tFind out how many countries are there in the dataset."
   ]
  },
  {
   "cell_type": "markdown",
   "id": "f7764a23",
   "metadata": {},
   "source": [
    "2.\tFind out how many countries with respect to the region are available in the dataset"
   ]
  },
  {
   "cell_type": "markdown",
   "id": "9723ecad",
   "metadata": {},
   "source": [
    "3.\tOn average which region has the highest\n",
    "    \n",
    "    a) GDP per capita (current US$)\n",
    "    \n",
    "    b)\tInternational trade: Imports (million US$)"
   ]
  },
  {
   "cell_type": "markdown",
   "id": "c8946413",
   "metadata": {},
   "source": [
    "4.\tFind out which region has more consistent with respect to GDP per capita (current US$)"
   ]
  },
  {
   "cell_type": "markdown",
   "id": "8832dc54",
   "metadata": {},
   "source": [
    "#### Importing required libraries"
   ]
  },
  {
   "cell_type": "code",
   "execution_count": 1,
   "id": "88ba6f22",
   "metadata": {},
   "outputs": [],
   "source": [
    "import numpy as np\n",
    "import pandas as pd"
   ]
  },
  {
   "cell_type": "markdown",
   "id": "e14e2ebb",
   "metadata": {},
   "source": [
    "#### Reading the data set into python"
   ]
  },
  {
   "cell_type": "markdown",
   "id": "a75ddba2",
   "metadata": {},
   "source": [
    "Note: Both dataset and python notebook are in same directory"
   ]
  },
  {
   "cell_type": "code",
   "execution_count": 2,
   "id": "a997c6b2",
   "metadata": {},
   "outputs": [],
   "source": [
    "data=pd.read_excel(\"Dataset_w6.xlsx\")"
   ]
  },
  {
   "cell_type": "markdown",
   "id": "903d446e",
   "metadata": {},
   "source": [
    "Checking random sample of dataset"
   ]
  },
  {
   "cell_type": "code",
   "execution_count": 3,
   "id": "ab0c8736",
   "metadata": {},
   "outputs": [
    {
     "data": {
      "text/html": [
       "<div>\n",
       "<style scoped>\n",
       "    .dataframe tbody tr th:only-of-type {\n",
       "        vertical-align: middle;\n",
       "    }\n",
       "\n",
       "    .dataframe tbody tr th {\n",
       "        vertical-align: top;\n",
       "    }\n",
       "\n",
       "    .dataframe thead th {\n",
       "        text-align: right;\n",
       "    }\n",
       "</style>\n",
       "<table border=\"1\" class=\"dataframe\">\n",
       "  <thead>\n",
       "    <tr style=\"text-align: right;\">\n",
       "      <th></th>\n",
       "      <th>country</th>\n",
       "      <th>Region</th>\n",
       "      <th>Surface area (km2)</th>\n",
       "      <th>Population in thousands (2017)</th>\n",
       "      <th>GDP per capita (current US$)</th>\n",
       "      <th>Agricultural production index</th>\n",
       "      <th>International trade: Imports (million US$)</th>\n",
       "    </tr>\n",
       "  </thead>\n",
       "  <tbody>\n",
       "    <tr>\n",
       "      <th>194</th>\n",
       "      <td>Zambia</td>\n",
       "      <td>EasternAfrica</td>\n",
       "      <td>752612</td>\n",
       "      <td>17094</td>\n",
       "      <td>1311.1</td>\n",
       "      <td>179</td>\n",
       "      <td>7442</td>\n",
       "    </tr>\n",
       "    <tr>\n",
       "      <th>98</th>\n",
       "      <td>Latvia</td>\n",
       "      <td>NorthernEurope</td>\n",
       "      <td>64573</td>\n",
       "      <td>1950</td>\n",
       "      <td>13704.1</td>\n",
       "      <td>130</td>\n",
       "      <td>13596</td>\n",
       "    </tr>\n",
       "    <tr>\n",
       "      <th>120</th>\n",
       "      <td>Mozambique</td>\n",
       "      <td>EasternAfrica</td>\n",
       "      <td>799380</td>\n",
       "      <td>29669</td>\n",
       "      <td>529.2</td>\n",
       "      <td>137</td>\n",
       "      <td>5295</td>\n",
       "    </tr>\n",
       "    <tr>\n",
       "      <th>95</th>\n",
       "      <td>Kuwait</td>\n",
       "      <td>WesternAsia</td>\n",
       "      <td>17818</td>\n",
       "      <td>4136</td>\n",
       "      <td>29303.9</td>\n",
       "      <td>199</td>\n",
       "      <td>30825</td>\n",
       "    </tr>\n",
       "    <tr>\n",
       "      <th>134</th>\n",
       "      <td>Panama</td>\n",
       "      <td>CentralAmerica</td>\n",
       "      <td>75320</td>\n",
       "      <td>4099</td>\n",
       "      <td>13268.1</td>\n",
       "      <td>117</td>\n",
       "      <td>11697</td>\n",
       "    </tr>\n",
       "  </tbody>\n",
       "</table>\n",
       "</div>"
      ],
      "text/plain": [
       "        country          Region  Surface area (km2)  \\\n",
       "194      Zambia   EasternAfrica              752612   \n",
       "98       Latvia  NorthernEurope               64573   \n",
       "120  Mozambique   EasternAfrica              799380   \n",
       "95       Kuwait     WesternAsia               17818   \n",
       "134      Panama  CentralAmerica               75320   \n",
       "\n",
       "     Population in thousands (2017)  GDP per capita (current US$)  \\\n",
       "194                           17094                        1311.1   \n",
       "98                             1950                       13704.1   \n",
       "120                           29669                         529.2   \n",
       "95                             4136                       29303.9   \n",
       "134                            4099                       13268.1   \n",
       "\n",
       "     Agricultural production index   \\\n",
       "194                             179   \n",
       "98                              130   \n",
       "120                             137   \n",
       "95                              199   \n",
       "134                             117   \n",
       "\n",
       "     International trade: Imports (million US$)  \n",
       "194                                        7442  \n",
       "98                                        13596  \n",
       "120                                        5295  \n",
       "95                                        30825  \n",
       "134                                       11697  "
      ]
     },
     "execution_count": 3,
     "metadata": {},
     "output_type": "execute_result"
    }
   ],
   "source": [
    "data.sample(5)"
   ]
  },
  {
   "cell_type": "markdown",
   "id": "f73099f0",
   "metadata": {},
   "source": [
    "### 1. Find out how many countries are there in the dataset."
   ]
  },
  {
   "cell_type": "code",
   "execution_count": 4,
   "id": "40174cfd",
   "metadata": {},
   "outputs": [
    {
     "name": "stdout",
     "output_type": "stream",
     "text": [
      "No of countries in the data set:  196\n"
     ]
    }
   ],
   "source": [
    "count1=data['country'].count()\n",
    "print(\"No of countries in the data set: \" , count1)"
   ]
  },
  {
   "cell_type": "code",
   "execution_count": 5,
   "id": "6806b619",
   "metadata": {},
   "outputs": [
    {
     "name": "stdout",
     "output_type": "stream",
     "text": [
      "No of countries in the data set:  196\n"
     ]
    }
   ],
   "source": [
    "Num=len(data['country'])\n",
    "print(\"No of countries in the data set: \" , Num)"
   ]
  },
  {
   "cell_type": "markdown",
   "id": "2bd43d54",
   "metadata": {},
   "source": [
    "Note: The count() method and len() returns the number of elements in the column country in the dataset"
   ]
  },
  {
   "cell_type": "markdown",
   "id": "ff37daf0",
   "metadata": {},
   "source": [
    "### 2. Find out how many countries with respect to the region are available in the dataset"
   ]
  },
  {
   "cell_type": "code",
   "execution_count": 6,
   "id": "779f75aa",
   "metadata": {
    "scrolled": true
   },
   "outputs": [
    {
     "name": "stdout",
     "output_type": "stream",
     "text": [
      "No. of countries with respect to region:\n"
     ]
    },
    {
     "data": {
      "text/html": [
       "<div>\n",
       "<style scoped>\n",
       "    .dataframe tbody tr th:only-of-type {\n",
       "        vertical-align: middle;\n",
       "    }\n",
       "\n",
       "    .dataframe tbody tr th {\n",
       "        vertical-align: top;\n",
       "    }\n",
       "\n",
       "    .dataframe thead th {\n",
       "        text-align: right;\n",
       "    }\n",
       "</style>\n",
       "<table border=\"1\" class=\"dataframe\">\n",
       "  <thead>\n",
       "    <tr style=\"text-align: right;\">\n",
       "      <th></th>\n",
       "      <th>Region</th>\n",
       "      <th>country</th>\n",
       "    </tr>\n",
       "  </thead>\n",
       "  <tbody>\n",
       "    <tr>\n",
       "      <th>0</th>\n",
       "      <td>Caribbean</td>\n",
       "      <td>16</td>\n",
       "    </tr>\n",
       "    <tr>\n",
       "      <th>1</th>\n",
       "      <td>CentralAmerica</td>\n",
       "      <td>8</td>\n",
       "    </tr>\n",
       "    <tr>\n",
       "      <th>2</th>\n",
       "      <td>CentralAsia</td>\n",
       "      <td>5</td>\n",
       "    </tr>\n",
       "    <tr>\n",
       "      <th>3</th>\n",
       "      <td>EasternAfrica</td>\n",
       "      <td>17</td>\n",
       "    </tr>\n",
       "    <tr>\n",
       "      <th>4</th>\n",
       "      <td>EasternAsia</td>\n",
       "      <td>7</td>\n",
       "    </tr>\n",
       "    <tr>\n",
       "      <th>5</th>\n",
       "      <td>EasternEurope</td>\n",
       "      <td>10</td>\n",
       "    </tr>\n",
       "    <tr>\n",
       "      <th>6</th>\n",
       "      <td>Melanesia</td>\n",
       "      <td>5</td>\n",
       "    </tr>\n",
       "    <tr>\n",
       "      <th>7</th>\n",
       "      <td>Micronesia</td>\n",
       "      <td>4</td>\n",
       "    </tr>\n",
       "    <tr>\n",
       "      <th>8</th>\n",
       "      <td>MiddleAfrica</td>\n",
       "      <td>9</td>\n",
       "    </tr>\n",
       "    <tr>\n",
       "      <th>9</th>\n",
       "      <td>NorthernAfrica</td>\n",
       "      <td>5</td>\n",
       "    </tr>\n",
       "    <tr>\n",
       "      <th>10</th>\n",
       "      <td>NorthernAmerica</td>\n",
       "      <td>4</td>\n",
       "    </tr>\n",
       "    <tr>\n",
       "      <th>11</th>\n",
       "      <td>NorthernEurope</td>\n",
       "      <td>10</td>\n",
       "    </tr>\n",
       "    <tr>\n",
       "      <th>12</th>\n",
       "      <td>Oceania</td>\n",
       "      <td>2</td>\n",
       "    </tr>\n",
       "    <tr>\n",
       "      <th>13</th>\n",
       "      <td>Polynesia</td>\n",
       "      <td>5</td>\n",
       "    </tr>\n",
       "    <tr>\n",
       "      <th>14</th>\n",
       "      <td>South-easternAsia</td>\n",
       "      <td>11</td>\n",
       "    </tr>\n",
       "    <tr>\n",
       "      <th>15</th>\n",
       "      <td>SouthAmerica</td>\n",
       "      <td>12</td>\n",
       "    </tr>\n",
       "    <tr>\n",
       "      <th>16</th>\n",
       "      <td>SouthernAfrica</td>\n",
       "      <td>5</td>\n",
       "    </tr>\n",
       "    <tr>\n",
       "      <th>17</th>\n",
       "      <td>SouthernAsia</td>\n",
       "      <td>9</td>\n",
       "    </tr>\n",
       "    <tr>\n",
       "      <th>18</th>\n",
       "      <td>SouthernEurope</td>\n",
       "      <td>12</td>\n",
       "    </tr>\n",
       "    <tr>\n",
       "      <th>19</th>\n",
       "      <td>WesternAfrica</td>\n",
       "      <td>15</td>\n",
       "    </tr>\n",
       "    <tr>\n",
       "      <th>20</th>\n",
       "      <td>WesternAsia</td>\n",
       "      <td>18</td>\n",
       "    </tr>\n",
       "    <tr>\n",
       "      <th>21</th>\n",
       "      <td>WesternEurope</td>\n",
       "      <td>7</td>\n",
       "    </tr>\n",
       "  </tbody>\n",
       "</table>\n",
       "</div>"
      ],
      "text/plain": [
       "               Region  country\n",
       "0           Caribbean       16\n",
       "1      CentralAmerica        8\n",
       "2         CentralAsia        5\n",
       "3       EasternAfrica       17\n",
       "4         EasternAsia        7\n",
       "5       EasternEurope       10\n",
       "6           Melanesia        5\n",
       "7          Micronesia        4\n",
       "8        MiddleAfrica        9\n",
       "9      NorthernAfrica        5\n",
       "10    NorthernAmerica        4\n",
       "11     NorthernEurope       10\n",
       "12            Oceania        2\n",
       "13          Polynesia        5\n",
       "14  South-easternAsia       11\n",
       "15       SouthAmerica       12\n",
       "16     SouthernAfrica        5\n",
       "17       SouthernAsia        9\n",
       "18     SouthernEurope       12\n",
       "19      WesternAfrica       15\n",
       "20        WesternAsia       18\n",
       "21      WesternEurope        7"
      ]
     },
     "execution_count": 6,
     "metadata": {},
     "output_type": "execute_result"
    }
   ],
   "source": [
    "print('No. of countries with respect to region:')\n",
    "data.groupby(\"Region\", as_index=False).country.count()"
   ]
  },
  {
   "cell_type": "markdown",
   "id": "30c3b86a",
   "metadata": {},
   "source": [
    "Note: groupby() function split data into separate regions to perform computations"
   ]
  },
  {
   "cell_type": "markdown",
   "id": "81404137",
   "metadata": {},
   "source": [
    "### 3.\tOn average which region has the highest"
   ]
  },
  {
   "cell_type": "markdown",
   "id": "ae2c4de1",
   "metadata": {},
   "source": [
    "####  a) GDP per capita (current USD)"
   ]
  },
  {
   "cell_type": "code",
   "execution_count": 7,
   "id": "44ec355f",
   "metadata": {
    "scrolled": true
   },
   "outputs": [
    {
     "data": {
      "text/html": [
       "<div>\n",
       "<style scoped>\n",
       "    .dataframe tbody tr th:only-of-type {\n",
       "        vertical-align: middle;\n",
       "    }\n",
       "\n",
       "    .dataframe tbody tr th {\n",
       "        vertical-align: top;\n",
       "    }\n",
       "\n",
       "    .dataframe thead th {\n",
       "        text-align: right;\n",
       "    }\n",
       "</style>\n",
       "<table border=\"1\" class=\"dataframe\">\n",
       "  <thead>\n",
       "    <tr style=\"text-align: right;\">\n",
       "      <th></th>\n",
       "      <th>GDP per capita (current US$)</th>\n",
       "    </tr>\n",
       "    <tr>\n",
       "      <th>Region</th>\n",
       "      <th></th>\n",
       "    </tr>\n",
       "  </thead>\n",
       "  <tbody>\n",
       "    <tr>\n",
       "      <th>NorthernAmerica</th>\n",
       "      <td>57659.0</td>\n",
       "    </tr>\n",
       "  </tbody>\n",
       "</table>\n",
       "</div>"
      ],
      "text/plain": [
       "                 GDP per capita (current US$)\n",
       "Region                                       \n",
       "NorthernAmerica                       57659.0"
      ]
     },
     "execution_count": 7,
     "metadata": {},
     "output_type": "execute_result"
    }
   ],
   "source": [
    "Avg1=data.groupby(\"Region\")[['GDP per capita (current US$)']].mean()\n",
    "a=Avg1.sort_values(by=['GDP per capita (current US$)'],ascending=False)\n",
    "a.head(1)"
   ]
  },
  {
   "cell_type": "markdown",
   "id": "df176fb3",
   "metadata": {},
   "source": [
    "#### Insight: Northern America region has the highest GDP per capita - 57659.0 USD"
   ]
  },
  {
   "cell_type": "markdown",
   "id": "fecaf686",
   "metadata": {},
   "source": [
    "Note: The sort_values() function is used to sort by the values along either axis. Default is along index"
   ]
  },
  {
   "cell_type": "markdown",
   "id": "16625773",
   "metadata": {},
   "source": [
    "####    b)\tInternational trade: Imports (million USD)"
   ]
  },
  {
   "cell_type": "code",
   "execution_count": 8,
   "id": "a783894b",
   "metadata": {
    "scrolled": true
   },
   "outputs": [
    {
     "data": {
      "text/plain": [
       "Region\n",
       "NorthernAmerica    663552.25\n",
       "Name: International trade: Imports (million US$), dtype: float64"
      ]
     },
     "execution_count": 8,
     "metadata": {},
     "output_type": "execute_result"
    }
   ],
   "source": [
    "x=data.groupby('Region')['International trade: Imports (million US$)'].mean()\n",
    "x.nlargest(1)"
   ]
  },
  {
   "cell_type": "markdown",
   "id": "ec65c640",
   "metadata": {},
   "source": [
    "#### Insight: Northern America region has the highest average of International trade: 663552.25 million USD"
   ]
  },
  {
   "cell_type": "markdown",
   "id": "08cd53fb",
   "metadata": {},
   "source": [
    "Note: The nlargest() function is used to get the first n rows ordered by columns in descending order"
   ]
  },
  {
   "cell_type": "markdown",
   "id": "fab36f77",
   "metadata": {},
   "source": [
    "### 4. Find out which region has more consistent with respect to GDP per capita (current US$)"
   ]
  },
  {
   "cell_type": "code",
   "execution_count": 9,
   "id": "ebf17a2f",
   "metadata": {},
   "outputs": [
    {
     "data": {
      "text/html": [
       "<div>\n",
       "<style scoped>\n",
       "    .dataframe tbody tr th:only-of-type {\n",
       "        vertical-align: middle;\n",
       "    }\n",
       "\n",
       "    .dataframe tbody tr th {\n",
       "        vertical-align: top;\n",
       "    }\n",
       "\n",
       "    .dataframe thead th {\n",
       "        text-align: right;\n",
       "    }\n",
       "</style>\n",
       "<table border=\"1\" class=\"dataframe\">\n",
       "  <thead>\n",
       "    <tr style=\"text-align: right;\">\n",
       "      <th></th>\n",
       "      <th>GDP per capita (current US$)</th>\n",
       "    </tr>\n",
       "    <tr>\n",
       "      <th>Region</th>\n",
       "      <th></th>\n",
       "    </tr>\n",
       "  </thead>\n",
       "  <tbody>\n",
       "    <tr>\n",
       "      <th>WesternAfrica</th>\n",
       "      <td>815.095399</td>\n",
       "    </tr>\n",
       "  </tbody>\n",
       "</table>\n",
       "</div>"
      ],
      "text/plain": [
       "               GDP per capita (current US$)\n",
       "Region                                     \n",
       "WesternAfrica                    815.095399"
      ]
     },
     "execution_count": 9,
     "metadata": {},
     "output_type": "execute_result"
    }
   ],
   "source": [
    "std1=data.groupby('Region')[['GDP per capita (current US$)']].std()\n",
    "a=std1.sort_values(by=['GDP per capita (current US$)'])\n",
    "a.head(1)"
   ]
  },
  {
   "cell_type": "markdown",
   "id": "ae60d615",
   "metadata": {},
   "source": [
    "Note: Standard Deviation (SD) is measured as the spread of data distribution in the given data set.A low SD indicates that the data points tend to be close to the mean."
   ]
  },
  {
   "cell_type": "markdown",
   "id": "9bb0533a",
   "metadata": {},
   "source": [
    "####  Insights: Western African region GDP is more consistent "
   ]
  },
  {
   "cell_type": "markdown",
   "id": "250c7240",
   "metadata": {},
   "source": [
    "### Participants\n",
    "#### 1. Reshma Joseph\n",
    "#### 2. Sreehari T\n",
    "#### 3. Akshitha M K\n",
    "#### 4. Sneha P Saji"
   ]
  }
 ],
 "metadata": {
  "kernelspec": {
   "display_name": "Python 3 (ipykernel)",
   "language": "python",
   "name": "python3"
  },
  "language_info": {
   "codemirror_mode": {
    "name": "ipython",
    "version": 3
   },
   "file_extension": ".py",
   "mimetype": "text/x-python",
   "name": "python",
   "nbconvert_exporter": "python",
   "pygments_lexer": "ipython3",
   "version": "3.8.8"
  }
 },
 "nbformat": 4,
 "nbformat_minor": 5
}
